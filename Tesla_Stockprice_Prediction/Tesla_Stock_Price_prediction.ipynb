{
 "cells": [
  {
   "cell_type": "raw",
   "id": "2f29405b",
   "metadata": {},
   "source": [
    "                        Project name : Tesla stock price prediction\n",
    "                        Spring 2022 - CS310: Data Mining - Project\n",
    "                             Instructor Name: Ms. Arshi Iftikhar\n",
    "\n",
    "                                        Team name:\n",
    "                                Hassan Razzaq (bdsm-s20-001)\n",
    "                                Abu Bakar (baim-s20-006)\n",
    "                                Abdul Rafy (baim-s20-007)"
   ]
  },
  {
   "cell_type": "code",
   "execution_count": 54,
   "id": "bb525335",
   "metadata": {},
   "outputs": [],
   "source": [
    "import numpy as np\n",
    "import pandas as pd\n",
    "import matplotlib.pyplot as plt\n",
    "from keras.models import Sequential\n",
    "from keras.layers import Dense, LSTM\n",
    "import math\n",
    "from sklearn.preprocessing import MinMaxScaler"
   ]
  },
  {
   "cell_type": "code",
   "execution_count": 55,
   "id": "3dcc8b1b",
   "metadata": {},
   "outputs": [
    {
     "data": {
      "text/html": [
       "<div>\n",
       "<style scoped>\n",
       "    .dataframe tbody tr th:only-of-type {\n",
       "        vertical-align: middle;\n",
       "    }\n",
       "\n",
       "    .dataframe tbody tr th {\n",
       "        vertical-align: top;\n",
       "    }\n",
       "\n",
       "    .dataframe thead th {\n",
       "        text-align: right;\n",
       "    }\n",
       "</style>\n",
       "<table border=\"1\" class=\"dataframe\">\n",
       "  <thead>\n",
       "    <tr style=\"text-align: right;\">\n",
       "      <th></th>\n",
       "      <th>date</th>\n",
       "      <th>open</th>\n",
       "      <th>high</th>\n",
       "      <th>low</th>\n",
       "      <th>close</th>\n",
       "      <th>volume</th>\n",
       "      <th>Name</th>\n",
       "    </tr>\n",
       "  </thead>\n",
       "  <tbody>\n",
       "    <tr>\n",
       "      <th>0</th>\n",
       "      <td>2013-02-08</td>\n",
       "      <td>15.07</td>\n",
       "      <td>15.12</td>\n",
       "      <td>14.63</td>\n",
       "      <td>14.75</td>\n",
       "      <td>8407500</td>\n",
       "      <td>AAL</td>\n",
       "    </tr>\n",
       "    <tr>\n",
       "      <th>1</th>\n",
       "      <td>2013-02-11</td>\n",
       "      <td>14.89</td>\n",
       "      <td>15.01</td>\n",
       "      <td>14.26</td>\n",
       "      <td>14.46</td>\n",
       "      <td>8882000</td>\n",
       "      <td>AAL</td>\n",
       "    </tr>\n",
       "    <tr>\n",
       "      <th>2</th>\n",
       "      <td>2013-02-12</td>\n",
       "      <td>14.45</td>\n",
       "      <td>14.51</td>\n",
       "      <td>14.10</td>\n",
       "      <td>14.27</td>\n",
       "      <td>8126000</td>\n",
       "      <td>AAL</td>\n",
       "    </tr>\n",
       "    <tr>\n",
       "      <th>3</th>\n",
       "      <td>2013-02-13</td>\n",
       "      <td>14.30</td>\n",
       "      <td>14.94</td>\n",
       "      <td>14.25</td>\n",
       "      <td>14.66</td>\n",
       "      <td>10259500</td>\n",
       "      <td>AAL</td>\n",
       "    </tr>\n",
       "    <tr>\n",
       "      <th>4</th>\n",
       "      <td>2013-02-14</td>\n",
       "      <td>14.94</td>\n",
       "      <td>14.96</td>\n",
       "      <td>13.16</td>\n",
       "      <td>13.99</td>\n",
       "      <td>31879900</td>\n",
       "      <td>AAL</td>\n",
       "    </tr>\n",
       "  </tbody>\n",
       "</table>\n",
       "</div>"
      ],
      "text/plain": [
       "         date   open   high    low  close    volume Name\n",
       "0  2013-02-08  15.07  15.12  14.63  14.75   8407500  AAL\n",
       "1  2013-02-11  14.89  15.01  14.26  14.46   8882000  AAL\n",
       "2  2013-02-12  14.45  14.51  14.10  14.27   8126000  AAL\n",
       "3  2013-02-13  14.30  14.94  14.25  14.66  10259500  AAL\n",
       "4  2013-02-14  14.94  14.96  13.16  13.99  31879900  AAL"
      ]
     },
     "execution_count": 55,
     "metadata": {},
     "output_type": "execute_result"
    }
   ],
   "source": [
    "data=pd.read_csv(\"C:\\\\all_stocks_5yr.csv\")\n",
    "data.head()"
   ]
  },
  {
   "cell_type": "code",
   "execution_count": 30,
   "id": "326cf2ec",
   "metadata": {},
   "outputs": [
    {
     "name": "stdout",
     "output_type": "stream",
     "text": [
      "['AAL' 'AAPL' 'AAP' 'ABBV' 'ABC' 'ABT' 'ACN' 'ADBE' 'ADI' 'ADM' 'ADP'\n",
      " 'ADSK' 'ADS' 'AEE' 'AEP' 'AES' 'AET' 'AFL' 'AGN' 'AIG' 'AIV' 'AIZ' 'AJG'\n",
      " 'AKAM' 'ALB' 'ALGN' 'ALK' 'ALLE' 'ALL' 'ALXN' 'AMAT' 'AMD' 'AME' 'AMGN'\n",
      " 'AMG' 'AMP' 'AMT' 'AMZN' 'ANDV' 'ANSS' 'ANTM' 'AON' 'AOS' 'APA' 'APC'\n",
      " 'APD' 'APH' 'APTV' 'ARE' 'ARNC' 'ATVI' 'AVB' 'AVGO' 'AVY' 'AWK' 'AXP'\n",
      " 'AYI' 'AZO' 'A' 'BAC' 'BAX' 'BA' 'BBT' 'BBY' 'BDX' 'BEN' 'BF.B' 'BHF'\n",
      " 'BHGE' 'BIIB' 'BK' 'BLK' 'BLL' 'BMY' 'BRK.B' 'BSX' 'BWA' 'BXP' 'CAG'\n",
      " 'CAH' 'CAT' 'CA' 'CBG' 'CBOE' 'CBS' 'CB' 'CCI' 'CCL' 'CDNS' 'CELG' 'CERN'\n",
      " 'CFG' 'CF' 'CHD' 'CHK' 'CHRW' 'CHTR' 'CINF' 'CI' 'CLX' 'CL' 'CMA' 'CMCSA'\n",
      " 'CME' 'CMG' 'CMI' 'CMS' 'CNC' 'CNP' 'COF' 'COG' 'COL' 'COO' 'COP' 'COST'\n",
      " 'COTY' 'CPB' 'CRM' 'CSCO' 'CSRA' 'CSX' 'CTAS' 'CTL' 'CTSH' 'CTXS' 'CVS'\n",
      " 'CVX' 'CXO' 'C' 'DAL' 'DE' 'DFS' 'DGX' 'DG' 'DHI' 'DHR' 'DISCA' 'DISCK'\n",
      " 'DISH' 'DIS' 'DLR' 'DLTR' 'DOV' 'DPS' 'DRE' 'DRI' 'DTE' 'DUK' 'DVA' 'DVN'\n",
      " 'DWDP' 'DXC' 'D' 'EA' 'EBAY' 'ECL' 'ED' 'EFX' 'EIX' 'EL' 'EMN' 'EMR'\n",
      " 'EOG' 'EQIX' 'EQR' 'EQT' 'ESRX' 'ESS' 'ES' 'ETFC' 'ETN' 'ETR' 'EVHC' 'EW'\n",
      " 'EXC' 'EXPD' 'EXPE' 'EXR' 'FAST' 'FBHS' 'FB' 'FCX' 'FDX' 'FE' 'FFIV'\n",
      " 'FISV' 'FIS' 'FITB' 'FLIR' 'FLR' 'FLS' 'FL' 'FMC' 'FOXA' 'FOX' 'FRT'\n",
      " 'FTI' 'FTV' 'F' 'GD' 'GE' 'GGP' 'GILD' 'GIS' 'GLW' 'GM' 'GOOGL' 'GOOG'\n",
      " 'GPC' 'GPN' 'GPS' 'GRMN' 'GS' 'GT' 'GWW' 'HAL' 'HAS' 'HBAN' 'HBI' 'HCA'\n",
      " 'HCN' 'HCP' 'HD' 'HES' 'HIG' 'HII' 'HLT' 'HOG' 'HOLX' 'HON' 'HPE' 'HPQ'\n",
      " 'HP' 'HRB' 'HRL' 'HRS' 'HSIC' 'HST' 'HSY' 'HUM' 'IBM' 'ICE' 'IDXX' 'IFF'\n",
      " 'ILMN' 'INCY' 'INFO' 'INTC' 'INTU' 'IPG' 'IP' 'IQV' 'IRM' 'IR' 'ISRG'\n",
      " 'ITW' 'IT' 'IVZ' 'JBHT' 'JCI' 'JEC' 'JNJ' 'JNPR' 'JPM' 'JWN' 'KEY' 'KHC'\n",
      " 'KIM' 'KLAC' 'KMB' 'KMI' 'KMX' 'KORS' 'KO' 'KR' 'KSS' 'KSU' 'K' 'LB'\n",
      " 'LEG' 'LEN' 'LH' 'LKQ' 'LLL' 'LLY' 'LMT' 'LNC' 'LNT' 'LOW' 'LRCX' 'LUK'\n",
      " 'LUV' 'LYB' 'L' 'MAA' 'MAC' 'MAR' 'MAS' 'MAT' 'MA' 'MCD' 'MCHP' 'MCK'\n",
      " 'MCO' 'MDLZ' 'MDT' 'MET' 'MGM' 'MHK' 'MKC' 'MLM' 'MMC' 'MMM' 'MNST' 'MON'\n",
      " 'MOS' 'MO' 'MPC' 'MRK' 'MRO' 'MSFT' 'MSI' 'MS' 'MTB' 'MTD' 'MU' 'MYL' 'M'\n",
      " 'NAVI' 'NBL' 'NCLH' 'NDAQ' 'NEE' 'NEM' 'NFLX' 'NFX' 'NI' 'NKE' 'NLSN'\n",
      " 'NOC' 'NOV' 'NRG' 'NSC' 'NTAP' 'NTRS' 'NUE' 'NVDA' 'NWL' 'NWSA' 'NWS'\n",
      " 'OKE' 'OMC' 'ORCL' 'ORLY' 'OXY' 'O' 'PAYX' 'PBCT' 'PCAR' 'PCG' 'PCLN'\n",
      " 'PDCO' 'PEG' 'PEP' 'PFE' 'PFG' 'PGR' 'PG' 'PHM' 'PH' 'PKG' 'PKI' 'PLD'\n",
      " 'PM' 'PNC' 'PNR' 'PNW' 'PPG' 'PPL' 'PRGO' 'PRU' 'PSA' 'PSX' 'PVH' 'PWR'\n",
      " 'PXD' 'PX' 'PYPL' 'QCOM' 'QRVO' 'RCL' 'REGN' 'REG' 'RE' 'RF' 'RHI' 'RHT'\n",
      " 'RJF' 'RL' 'RMD' 'ROK' 'ROP' 'ROST' 'RRC' 'RSG' 'RTN' 'SBAC' 'SBUX' 'SCG'\n",
      " 'SCHW' 'SEE' 'SHW' 'SIG' 'SJM' 'SLB' 'SLG' 'SNA' 'SNI' 'SNPS' 'SO' 'SPGI'\n",
      " 'SPG' 'SRCL' 'SRE' 'STI' 'STT' 'STX' 'STZ' 'SWKS' 'SWK' 'SYF' 'SYK'\n",
      " 'SYMC' 'SYY' 'TAP' 'TDG' 'TEL' 'TGT' 'TIF' 'TJX' 'TMK' 'TMO' 'TPR' 'TRIP'\n",
      " 'TROW' 'TRV' 'TSCO' 'TSN' 'TSS' 'TWX' 'TXN' 'TXT' 'T' 'UAA' 'UAL' 'UA'\n",
      " 'UDR' 'UHS' 'ULTA' 'UNH' 'UNM' 'UNP' 'UPS' 'URI' 'USB' 'UTX' 'VAR' 'VFC'\n",
      " 'VIAB' 'VLO' 'VMC' 'VNO' 'VRSK' 'VRSN' 'VRTX' 'VTR' 'VZ' 'V' 'WAT' 'WBA'\n",
      " 'WDC' 'WEC' 'WFC' 'WHR' 'WLTW' 'WMB' 'WMT' 'WM' 'WRK' 'WU' 'WYNN' 'WYN'\n",
      " 'WY' 'XEC' 'XEL' 'XLNX' 'XL' 'XOM' 'XRAY' 'XRX' 'XYL' 'YUM' 'ZBH' 'ZION'\n",
      " 'ZTS']\n"
     ]
    }
   ],
   "source": [
    "all_stock_tick_names = data['Name'].unique()\n",
    "print(all_stock_tick_names)"
   ]
  },
  {
   "cell_type": "code",
   "execution_count": 36,
   "id": "7eb18490",
   "metadata": {},
   "outputs": [
    {
     "name": "stdout",
     "output_type": "stream",
     "text": [
      "Enter a Stock Price Name: XLNX\n"
     ]
    },
    {
     "data": {
      "text/html": [
       "<div>\n",
       "<style scoped>\n",
       "    .dataframe tbody tr th:only-of-type {\n",
       "        vertical-align: middle;\n",
       "    }\n",
       "\n",
       "    .dataframe tbody tr th {\n",
       "        vertical-align: top;\n",
       "    }\n",
       "\n",
       "    .dataframe thead th {\n",
       "        text-align: right;\n",
       "    }\n",
       "</style>\n",
       "<table border=\"1\" class=\"dataframe\">\n",
       "  <thead>\n",
       "    <tr style=\"text-align: right;\">\n",
       "      <th></th>\n",
       "      <th>date</th>\n",
       "      <th>open</th>\n",
       "      <th>high</th>\n",
       "      <th>low</th>\n",
       "      <th>close</th>\n",
       "      <th>volume</th>\n",
       "      <th>Name</th>\n",
       "    </tr>\n",
       "  </thead>\n",
       "  <tbody>\n",
       "    <tr>\n",
       "      <th>606450</th>\n",
       "      <td>2013-02-08</td>\n",
       "      <td>37.00</td>\n",
       "      <td>37.630</td>\n",
       "      <td>36.970</td>\n",
       "      <td>37.51</td>\n",
       "      <td>3721016</td>\n",
       "      <td>XLNX</td>\n",
       "    </tr>\n",
       "    <tr>\n",
       "      <th>606451</th>\n",
       "      <td>2013-02-11</td>\n",
       "      <td>37.46</td>\n",
       "      <td>37.575</td>\n",
       "      <td>37.265</td>\n",
       "      <td>37.46</td>\n",
       "      <td>2004285</td>\n",
       "      <td>XLNX</td>\n",
       "    </tr>\n",
       "    <tr>\n",
       "      <th>606452</th>\n",
       "      <td>2013-02-12</td>\n",
       "      <td>37.35</td>\n",
       "      <td>37.710</td>\n",
       "      <td>37.220</td>\n",
       "      <td>37.58</td>\n",
       "      <td>1859525</td>\n",
       "      <td>XLNX</td>\n",
       "    </tr>\n",
       "    <tr>\n",
       "      <th>606453</th>\n",
       "      <td>2013-02-13</td>\n",
       "      <td>37.63</td>\n",
       "      <td>38.000</td>\n",
       "      <td>37.480</td>\n",
       "      <td>37.80</td>\n",
       "      <td>2908631</td>\n",
       "      <td>XLNX</td>\n",
       "    </tr>\n",
       "    <tr>\n",
       "      <th>606454</th>\n",
       "      <td>2013-02-14</td>\n",
       "      <td>37.61</td>\n",
       "      <td>38.620</td>\n",
       "      <td>37.420</td>\n",
       "      <td>38.44</td>\n",
       "      <td>4376224</td>\n",
       "      <td>XLNX</td>\n",
       "    </tr>\n",
       "  </tbody>\n",
       "</table>\n",
       "</div>"
      ],
      "text/plain": [
       "              date   open    high     low  close   volume  Name\n",
       "606450  2013-02-08  37.00  37.630  36.970  37.51  3721016  XLNX\n",
       "606451  2013-02-11  37.46  37.575  37.265  37.46  2004285  XLNX\n",
       "606452  2013-02-12  37.35  37.710  37.220  37.58  1859525  XLNX\n",
       "606453  2013-02-13  37.63  38.000  37.480  37.80  2908631  XLNX\n",
       "606454  2013-02-14  37.61  38.620  37.420  38.44  4376224  XLNX"
      ]
     },
     "execution_count": 36,
     "metadata": {},
     "output_type": "execute_result"
    }
   ],
   "source": [
    "\n",
    "stock_name = input(\"Enter a Stock Price Name: \")\n",
    " \n",
    "\n",
    "all_data = data['Name'] == stock_name\n",
    " \n",
    "\n",
    "final_data = data[all_data]\n",
    " \n",
    "\n",
    "final_data.head()"
   ]
  },
  {
   "cell_type": "code",
   "execution_count": 37,
   "id": "5a89380f",
   "metadata": {},
   "outputs": [
    {
     "data": {
      "image/png": "[encoded data removed]",
      "text/plain": [
       "<Figure size 432x288 with 1 Axes>"
      ]
     },
     "metadata": {
      "needs_background": "light"
     },
     "output_type": "display_data"
    },
    {
     "data": {
      "image/png": "[encoded data removed]",
      "text/plain": [
       "<Figure size 432x288 with 1 Axes>"
      ]
     },
     "metadata": {
      "needs_background": "light"
     },
     "output_type": "display_data"
    }
   ],
   "source": [
    "\n",
    "final_data.plot('date','close',color=\"red\")\n",
    " \n",
    "\n",
    "new_data = final_data.head(60)\n",
    " \n",
    "\n",
    "new_data.plot('date','close',color=\"green\")\n",
    " \n",
    "plt.show()"
   ]
  },
  {
   "cell_type": "code",
   "execution_count": 38,
   "id": "ee1cf2f9",
   "metadata": {},
   "outputs": [],
   "source": [
    "\n",
    "close_data = final_data.filter(['close'])\n",
    " \n",
    "\n",
    "dataset = close_data.values\n",
    " \n",
    "\n",
    "scaler = MinMaxScaler(feature_range=(0, 1))\n",
    "scaled_data = scaler.fit_transform(dataset)\n",
    " \n",
    "\n",
    "training_data_len = math.ceil(len(dataset) *.7)\n",
    "train_data = scaled_data[0:training_data_len  , : ]\n",
    " \n",
    "\n",
    "x_train_data=[]\n",
    "y_train_data =[]\n",
    "for i in range(60,len(train_data)):\n",
    "    x_train_data=list(x_train_data)\n",
    "    y_train_data=list(y_train_data)\n",
    "    x_train_data.append(train_data[i-60:i,0])\n",
    "    y_train_data.append(train_data[i,0])\n",
    " \n",
    "    \n",
    "    x_train_data1, y_train_data1 = np.array(x_train_data), np.array(y_train_data)\n",
    " \n",
    "    \n",
    "    x_train_data2 = np.reshape(x_train_data1, (x_train_data1.shape[0],x_train_data1.shape[1],1))\n"
   ]
  },
  {
   "cell_type": "code",
   "execution_count": 39,
   "id": "6a0d302f",
   "metadata": {},
   "outputs": [],
   "source": [
    "model = Sequential()\n",
    "model.add(LSTM(units=50, return_sequences=True,input_shape=(x_train_data2.shape[1],1)))\n",
    "model.add(LSTM(units=50, return_sequences=False))\n",
    "model.add(Dense(units=25))\n",
    "model.add(Dense(units=1))"
   ]
  },
  {
   "cell_type": "code",
   "execution_count": 40,
   "id": "523551eb",
   "metadata": {},
   "outputs": [
    {
     "name": "stdout",
     "output_type": "stream",
     "text": [
      "822/822 [==============================] - 40s 41ms/step - loss: 0.0020\n"
     ]
    },
    {
     "data": {
      "text/plain": [
       "<keras.callbacks.History at 0x2024cca1dc0>"
      ]
     },
     "execution_count": 40,
     "metadata": {},
     "output_type": "execute_result"
    }
   ],
   "source": [
    "\n",
    "model.compile(optimizer='adam', loss='mean_squared_error')\n",
    "model.fit(x_train_data2, y_train_data1, batch_size=1, epochs=1)\n"
   ]
  },
  {
   "cell_type": "code",
   "execution_count": 41,
   "id": "25f7f139",
   "metadata": {},
   "outputs": [],
   "source": [
    "\n",
    "test_data = scaled_data[training_data_len - 60: , : ]\n",
    "x_test = []\n",
    "y_test =  dataset[training_data_len : , : ]\n",
    "for i in range(60,len(test_data)):\n",
    "    x_test.append(test_data[i-60:i,0])\n",
    " \n",
    "# 2.  Convert the values into arrays for easier computation\n",
    "x_test = np.array(x_test)\n",
    "x_test = np.reshape(x_test, (x_test.shape[0],x_test.shape[1],1))\n",
    " \n",
    "\n",
    "predictions = model.predict(x_test)\n",
    "predictions = scaler.inverse_transform(predictions)"
   ]
  },
  {
   "cell_type": "code",
   "execution_count": 42,
   "id": "899c8aaf",
   "metadata": {},
   "outputs": [
    {
     "name": "stdout",
     "output_type": "stream",
     "text": [
      "1.6925388218329016\n"
     ]
    }
   ],
   "source": [
    "rmse=np.sqrt(np.mean(((predictions- y_test)**2)))\n",
    "print(rmse)"
   ]
  },
  {
   "cell_type": "code",
   "execution_count": 53,
   "id": "b142799f",
   "metadata": {},
   "outputs": [
    {
     "name": "stderr",
     "output_type": "stream",
     "text": [
      "<ipython-input-53-044a33c306b2>:4: SettingWithCopyWarning: \n",
      "A value is trying to be set on a copy of a slice from a DataFrame.\n",
      "Try using .loc[row_indexer,col_indexer] = value instead\n",
      "\n",
      "See the caveats in the documentation: https://pandas.pydata.org/pandas-docs/stable/user_guide/indexing.html#returning-a-view-versus-a-copy\n",
      "  valid['Predictions']= pd.Series([3, 3, 7])\n"
     ]
    },
    {
     "data": {
      "image/png": "[encoded data removed]",
      "text/plain": [
       "<Figure size 432x288 with 1 Axes>"
      ]
     },
     "metadata": {
      "needs_background": "light"
     },
     "output_type": "display_data"
    }
   ],
   "source": [
    "train = data[:training_data_len]\n",
    "valid = data[training_data_len:]\n",
    " \n",
    "valid['Predictions']= pd.Series([3, 3, 7])\n",
    "# ['rebounds'] = pd.Series([3, 3, 7])\n",
    "plt.title('Model')\n",
    "plt.xlabel('Date')\n",
    "plt.ylabel('Close')\n",
    " \n",
    "plt.plot(train['close'])\n",
    "plt.plot(valid[['close', 'Predictions']])\n",
    " \n",
    "plt.legend(['Train', 'Val', 'Predictions'], loc='lower right')\n",
    " \n",
    "plt.show()"
   ]
  }
 ],
 "metadata": {
  "kernelspec": {
   "display_name": "Python 3",
   "language": "python",
   "name": "python3"
  },
  "language_info": {
   "codemirror_mode": {
    "name": "ipython",
    "version": 3
   },
   "file_extension": ".py",
   "mimetype": "text/x-python",
   "name": "python",
   "nbconvert_exporter": "python",
   "pygments_lexer": "ipython3",
   "version": "3.8.8"
  }
 },
 "nbformat": 4,
 "nbformat_minor": 5
}
